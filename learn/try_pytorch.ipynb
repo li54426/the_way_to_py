{
 "cells": [
  {
   "cell_type": "code",
   "execution_count": 2,
   "metadata": {},
   "outputs": [],
   "source": [
    "import torch"
   ]
  },
  {
   "cell_type": "code",
   "execution_count": 3,
   "metadata": {},
   "outputs": [
    {
     "name": "stdout",
     "output_type": "stream",
     "text": [
      "\n",
      "numpy array: [[0 1 2]\n",
      " [3 4 5]] \n",
      "torch tensor: tensor([[0, 1, 2],\n",
      "        [3, 4, 5]], dtype=torch.int32) \n",
      "tensor to array: [[0 1 2]\n",
      " [3 4 5]]\n"
     ]
    }
   ],
   "source": [
    "import torch\n",
    "import numpy as np\n",
    "\n",
    "np_data = np.arange(6).reshape((2, 3))\n",
    "torch_data = torch.from_numpy(np_data)\n",
    "tensor2array = torch_data.numpy()\n",
    "print(\n",
    "    '\\nnumpy array:', np_data,          # [[0 1 2], [3 4 5]]\n",
    "    '\\ntorch tensor:', torch_data,      #  0  1  2 \\n 3  4  5    [torch.LongTensor of size 2x3]\n",
    "    '\\ntensor to array:', tensor2array, # [[0 1 2], [3 4 5]]\n",
    ")"
   ]
  },
  {
   "cell_type": "code",
   "execution_count": 7,
   "metadata": {},
   "outputs": [
    {
     "name": "stdout",
     "output_type": "stream",
     "text": [
      "<class 'torch.Tensor'>\n",
      "tensor([-1,  0,  1,  2])\n"
     ]
    }
   ],
   "source": [
    "data = [-1,0,1,2];\n",
    "t1 = torch.tensor(data);\n",
    "print(type(t1))\n",
    "print(t1)"
   ]
  },
  {
   "cell_type": "code",
   "execution_count": 6,
   "metadata": {},
   "outputs": [
    {
     "name": "stdout",
     "output_type": "stream",
     "text": [
      "tensor([1, 0, 1, 2])\n",
      "tensor([1, 0, 1, 2])\n"
     ]
    }
   ],
   "source": [
    "print(t1.abs());\n",
    "t1 = t1.abs();\n",
    "print(t1)"
   ]
  },
  {
   "cell_type": "code",
   "execution_count": 11,
   "metadata": {},
   "outputs": [
    {
     "name": "stdout",
     "output_type": "stream",
     "text": [
      "tensor([[1, 0],\n",
      "        [1, 4]])\n"
     ]
    }
   ],
   "source": [
    "data = [-1, 0, 1, 2]\n",
    "t1 = torch.tensor(data).reshape(2,2)\n",
    "#矩阵乘法\n",
    "t2 = torch.mm(t1, t1);\n",
    "print(t2);"
   ]
  },
  {
   "cell_type": "code",
   "execution_count": 13,
   "metadata": {},
   "outputs": [
    {
     "name": "stdout",
     "output_type": "stream",
     "text": [
      "tensor([[-1,  0],\n",
      "        [ 1,  2]])\n"
     ]
    },
    {
     "ename": "TypeError",
     "evalue": "'Tensor' object is not callable",
     "output_type": "error",
     "traceback": [
      "\u001b[1;31m---------------------------------------------------------------------------\u001b[0m",
      "\u001b[1;31mTypeError\u001b[0m                                 Traceback (most recent call last)",
      "\u001b[1;32m<ipython-input-13-801f318d0dc9>\u001b[0m in \u001b[0;36m<module>\u001b[1;34m\u001b[0m\n\u001b[0;32m      2\u001b[0m \u001b[0mv\u001b[0m \u001b[1;33m=\u001b[0m \u001b[0mVariable\u001b[0m\u001b[1;33m(\u001b[0m\u001b[0mt1\u001b[0m\u001b[1;33m)\u001b[0m\u001b[1;33m;\u001b[0m\u001b[1;33m\u001b[0m\u001b[1;33m\u001b[0m\u001b[0m\n\u001b[0;32m      3\u001b[0m \u001b[0mprint\u001b[0m\u001b[1;33m(\u001b[0m\u001b[0mv\u001b[0m\u001b[1;33m)\u001b[0m\u001b[1;33m;\u001b[0m\u001b[1;33m\u001b[0m\u001b[1;33m\u001b[0m\u001b[0m\n\u001b[1;32m----> 4\u001b[1;33m \u001b[0mt3\u001b[0m \u001b[1;33m=\u001b[0m \u001b[0mv\u001b[0m\u001b[1;33m.\u001b[0m\u001b[0mdata\u001b[0m\u001b[1;33m(\u001b[0m\u001b[1;33m)\u001b[0m\u001b[1;33m;\u001b[0m\u001b[1;33m\u001b[0m\u001b[1;33m\u001b[0m\u001b[0m\n\u001b[0m\u001b[0;32m      5\u001b[0m \u001b[0mprint\u001b[0m\u001b[1;33m(\u001b[0m\u001b[0mt3\u001b[0m\u001b[1;33m)\u001b[0m\u001b[1;33m\u001b[0m\u001b[1;33m\u001b[0m\u001b[0m\n",
      "\u001b[1;31mTypeError\u001b[0m: 'Tensor' object is not callable"
     ]
    }
   ],
   "source": [
    "from torch.autograd import Variable\n",
    "v = Variable(t1);\n",
    "print(v);\n",
    "t3 = v.data();\n",
    "print(t3)"
   ]
  },
  {
   "cell_type": "code",
   "execution_count": 17,
   "metadata": {},
   "outputs": [
    {
     "name": "stdout",
     "output_type": "stream",
     "text": [
      "tensor([-5., -4., -3., -2., -1.,  0.,  1.,  2.,  3.,  4.,  5.])\n"
     ]
    }
   ],
   "source": [
    "t3 = torch.linspace(-5, 5, 11);\n",
    "print(t3);"
   ]
  },
  {
   "cell_type": "code",
   "execution_count": 19,
   "metadata": {},
   "outputs": [],
   "source": [
    "import torch.nn.functional as F "
   ]
  },
  {
   "cell_type": "code",
   "execution_count": 21,
   "metadata": {
    "scrolled": true
   },
   "outputs": [
    {
     "name": "stdout",
     "output_type": "stream",
     "text": [
      "12\n"
     ]
    }
   ],
   "source": [
    "a = input()"
   ]
  },
  {
   "cell_type": "code",
   "execution_count": 25,
   "metadata": {},
   "outputs": [
    {
     "data": {
      "text/plain": [
       "str"
      ]
     },
     "execution_count": 25,
     "metadata": {},
     "output_type": "execute_result"
    }
   ],
   "source": [
    "type(a)\n"
   ]
  },
  {
   "cell_type": "code",
   "execution_count": 26,
   "metadata": {},
   "outputs": [
    {
     "data": {
      "image/png": "[encoded data removed]",
      "text/plain": [
       "<Figure size 432x288 with 1 Axes>"
      ]
     },
     "metadata": {
      "needs_background": "light"
     },
     "output_type": "display_data"
    }
   ],
   "source": [
    "import torch\n",
    "import matplotlib.pyplot as plt\n",
    "\n",
    "x = torch.unsqueeze(torch.linspace(-1, 1, 100), dim=1)  # x data (tensor), shape=(100, 1)\n",
    "y = x.pow(2) + 0.2*torch.rand(x.size())                 # noisy y data (tensor), shape=(100, 1)\n",
    "\n",
    "# 画图\n",
    "plt.scatter(x.data.numpy(), y.data.numpy())\n",
    "plt.show()"
   ]
  },
  {
   "cell_type": "code",
   "execution_count": 24,
   "metadata": {},
   "outputs": [
    {
     "name": "stdout",
     "output_type": "stream",
     "text": [
      "Net(\n",
      "  (hidden): Linear(in_features=1, out_features=10, bias=True)\n",
      "  (predict): Linear(in_features=10, out_features=1, bias=True)\n",
      ")\n"
     ]
    }
   ],
   "source": [
    "class Net(torch.nn.Module):  # 继承 torch 的 Module\n",
    "    def __init__(self, n_feature, n_hidden, n_output):\n",
    "        super(Net, self).__init__()     # 继承 __init__ 功能\n",
    "        # 定义每层用什么样的形式\n",
    "        self.hidden = torch.nn.Linear(n_feature, n_hidden)   # 隐藏层线性输出\n",
    "        self.predict = torch.nn.Linear(n_hidden, n_output)   # 输出层线性输出\n",
    "\n",
    "    def forward(self, x):   # 这同时也是 Module 中的 forward 功能\n",
    "        # 正向传播输入值, 神经网络分析出输出值\n",
    "        x = F.relu(self.hidden(x))      # 激励函数(隐藏层的线性值)\n",
    "        x = self.predict(x)             # 输出值\n",
    "        return x\n",
    "\n",
    "net = Net(n_feature=1, n_hidden=10, n_output=1)\n",
    "\n",
    "print(net)  # net 的结构"
   ]
  },
  {
   "cell_type": "code",
   "execution_count": 27,
   "metadata": {},
   "outputs": [],
   "source": [
    "# optimizer 是训练的工具\n",
    "optimizer = torch.optim.SGD(net.parameters(), lr=0.2)  # 传入 net 的所有参数, 学习率\n",
    "loss_func = torch.nn.MSELoss()      # 预测值和真实值的误差计算公式 (均方差)\n",
    "\n",
    "for t in range(100):\n",
    "    # 喂给 net 训练数据 x, 输出预测值\n",
    "    prediction = net(x)     \n",
    "\n",
    "    loss = loss_func(prediction, y)     # 计算两者的误差\n",
    "\n",
    "    optimizer.zero_grad()   # 清空上一步的残余更新参数值\n",
    "    loss.backward()         # 误差反向传播, 计算参数更新值\n",
    "    optimizer.step()        # 将参数更新值施加到 net 的 parameters 上\n"
   ]
  },
  {
   "cell_type": "code",
   "execution_count": 28,
   "metadata": {},
   "outputs": [],
   "source": [
    "net2 = torch.nn.Sequential(\n",
    "    torch.nn.Linear(1, 10),\n",
    "    torch.nn.ReLU(),\n",
    "    torch.nn.Linear(10, 1)\n",
    ")"
   ]
  },
  {
   "cell_type": "code",
   "execution_count": 29,
   "metadata": {},
   "outputs": [
    {
     "data": {
      "text/plain": [
       "Sequential(\n",
       "  (0): Linear(in_features=1, out_features=10, bias=True)\n",
       "  (1): ReLU()\n",
       "  (2): Linear(in_features=10, out_features=1, bias=True)\n",
       ")"
      ]
     },
     "execution_count": 29,
     "metadata": {},
     "output_type": "execute_result"
    }
   ],
   "source": [
    "net2"
   ]
  },
  {
   "cell_type": "code",
   "execution_count": 67,
   "metadata": {},
   "outputs": [
    {
     "data": {
      "image/png": "[encoded data removed]",
      "text/plain": [
       "<Figure size 432x288 with 1 Axes>"
      ]
     },
     "metadata": {
      "needs_background": "light"
     },
     "output_type": "display_data"
    }
   ],
   "source": [
    "import torch\n",
    "import matplotlib.pyplot as plt\n",
    "\n",
    "# 假数据\n",
    "n_data = torch.ones(100, 2)         # 数据的基本形态\n",
    "x0 = torch.normal(2*n_data, 1)      # 类型0 x data (tensor), shape=(100, 2)\n",
    "y0 = torch.zeros(100)               # 类型0 y data (tensor), shape=(100, )\n",
    "x1 = torch.normal(-2*n_data, 1)     # 类型1 x data (tensor), shape=(100, 1)\n",
    "y1 = torch.ones(100)                # 类型1 y data (tensor), shape=(100, )\n",
    "\n",
    "#print(x0);\n",
    "# 注意 x, y 数据的数据形式是一定要像下面一样 (torch.cat 是在合并数据)\n",
    "x = torch.cat((x0, x1), 0).type(torch.FloatTensor)  # FloatTensor = 32-bit floating\n",
    "y = torch.cat((y0, y1), ).type(torch.LongTensor)    # LongTensor = 64-bit integer\n",
    "\n",
    "# plt.scatter(x.data.numpy()[:, 0], x.data.numpy()[:, 1], c=y.data.numpy(), s=100, lw=0, cmap='RdYlGn')\n",
    "# plt.show()\n",
    "\n",
    "\n",
    "\n",
    "# 画图\n",
    "\n",
    "plt.scatter(x.numpy()[:, 0], x.numpy()[:, 1],  c =  y );\n",
    "#plt.xlim(-5, 2);\n",
    "#plt.ylim(-5, 2);\n",
    "\n",
    "plt.show()"
   ]
  },
  {
   "cell_type": "code",
   "execution_count": null,
   "metadata": {},
   "outputs": [],
   "source": [
    "print(\"x type is\", type(x));\n",
    "print(\"x.data type is\", type(x.data));\n",
    "\n",
    "print(x.shape)\n",
    "print(y.shape)\n",
    "#print(x.numpy())"
   ]
  },
  {
   "cell_type": "code",
   "execution_count": 57,
   "metadata": {},
   "outputs": [
    {
     "name": "stdout",
     "output_type": "stream",
     "text": [
      "tensor([ 2.0928,  2.7037,  3.7903,  0.9255,  1.9794,  2.5975,  3.2162,  1.1714,\n",
      "         0.9198,  2.3266,  2.7618,  1.7041,  0.7278,  2.7714,  1.6085,  1.0912,\n",
      "         0.9103,  3.2649,  1.0939,  0.8605,  5.0031, -0.6704,  3.3859,  3.6278,\n",
      "         2.5670,  1.4121,  2.1775,  3.8611,  3.0798,  0.1709,  2.8456,  0.1017,\n",
      "         2.0579,  3.0916,  3.0282,  1.9813,  4.3557,  1.3299,  2.7277,  2.7834,\n",
      "         1.4496,  1.1090,  1.0317,  1.7785, -1.8677,  1.5734,  3.1896,  0.1049,\n",
      "         1.3942,  0.9069,  3.4489,  4.1395,  1.4095,  0.9937,  2.1300,  2.8286,\n",
      "         2.1542,  0.3686,  1.9389,  3.2256,  2.3526,  3.7064,  2.6157,  2.9051,\n",
      "         2.6823,  1.5459,  2.6819,  3.1037,  1.9810,  0.7229,  1.6374,  1.1009,\n",
      "         1.7778,  2.1279,  1.5571,  3.0253,  0.4999,  3.0789,  2.3946,  2.9906,\n",
      "         1.9223,  3.7917,  2.6588,  2.6097,  0.6695,  1.1315,  3.9968,  2.2316,\n",
      "         2.7189,  2.8713,  1.4463,  2.5266,  0.4982,  1.9557,  4.2809,  2.2738,\n",
      "         0.6286,  2.3898,  2.8884,  2.7724, -1.2413, -0.3494, -2.5711, -2.4256,\n",
      "        -3.3100, -2.8294, -2.5171, -2.5829, -0.8716, -0.9409, -2.9541, -3.9050,\n",
      "        -0.8481, -1.4213, -2.0565, -3.2931, -3.1852, -2.5050, -0.9345, -1.0363,\n",
      "        -2.0073, -3.1505, -2.8039, -1.2398, -1.9368, -1.0130, -1.4134, -0.1143,\n",
      "        -2.0884, -2.5003, -0.7049, -0.1416, -1.6158, -1.5916, -4.5684, -1.0035,\n",
      "        -0.7741, -2.8793, -2.7496, -0.7542, -3.3140, -1.6759, -1.5049, -2.4684,\n",
      "        -1.2434, -1.6853, -1.6332, -2.4023, -0.8579, -1.8222, -2.0637, -3.7907,\n",
      "        -0.5800, -1.4033, -1.7694, -0.9231, -1.6495, -2.2016, -4.7393, -0.8415,\n",
      "        -2.6235, -1.8051, -3.7303, -2.3437, -3.6501, -0.9198, -2.3095, -2.5012,\n",
      "        -0.7385, -0.1414, -1.4285, -3.5533, -3.1586, -0.7650, -2.0297, -0.7763,\n",
      "        -0.4800, -2.2992, -1.8617, -2.5053, -3.1305, -3.4743, -1.7114, -1.3351,\n",
      "        -0.6752, -1.8859, -2.1964, -1.9980, -1.2432, -2.0439, -1.9604, -1.7704,\n",
      "         0.1082, -3.4558, -1.1861, -1.7637, -2.0392, -1.6566, -2.9484, -1.5360])\n"
     ]
    }
   ],
   "source": [
    "print(x[:, 0]);"
   ]
  },
  {
   "cell_type": "code",
   "execution_count": null,
   "metadata": {},
   "outputs": [],
   "source": []
  }
 ],
 "metadata": {
  "kernelspec": {
   "display_name": "Python 3",
   "language": "python",
   "name": "python3"
  },
  "language_info": {
   "codemirror_mode": {
    "name": "ipython",
    "version": 3
   },
   "file_extension": ".py",
   "mimetype": "text/x-python",
   "name": "python",
   "nbconvert_exporter": "python",
   "pygments_lexer": "ipython3",
   "version": "3.8.5"
  }
 },
 "nbformat": 4,
 "nbformat_minor": 4
}
