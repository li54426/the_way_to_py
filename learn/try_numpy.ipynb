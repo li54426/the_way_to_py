{
 "cells": [
  {
   "cell_type": "code",
   "execution_count": 6,
   "metadata": {
    "scrolled": true
   },
   "outputs": [
    {
     "name": "stdout",
     "output_type": "stream",
     "text": [
      "a[0:2]： [1 2]\n",
      "a[1:]： [2 3]\n",
      "a[-2:]:  [2 3]\n",
      "[1]\n",
      "2\n"
     ]
    },
    {
     "data": {
      "text/plain": [
       "numpy.int32"
      ]
     },
     "execution_count": 6,
     "metadata": {},
     "output_type": "execute_result"
    }
   ],
   "source": [
    "import numpy as np\n",
    "a = np.array([1, 2, 3])\n",
    "print(\"a[0:2]：\", a[0:2])\n",
    "print(\"a[1:]：\", a[1:])\n",
    "print(\"a[-2:]: \", a[-2:])\n",
    "print(a[:-2])\n",
    "print(a[-2])\n",
    "type(a[-2])"
   ]
  },
  {
   "cell_type": "code",
   "execution_count": 7,
   "metadata": {},
   "outputs": [
    {
     "name": "stdout",
     "output_type": "stream",
     "text": [
      "[ 8  9 10 11 12]\n"
     ]
    }
   ],
   "source": [
    "a = np.array([\n",
    "[1,2,3,4],\n",
    "[5,6,7,8],\n",
    "[9,10,11,12]\n",
    "])\n",
    "\n",
    "print(a[a>7])"
   ]
  },
  {
   "cell_type": "code",
   "execution_count": 9,
   "metadata": {},
   "outputs": [
    {
     "name": "stdout",
     "output_type": "stream",
     "text": [
      "[150, 166, 183, 170]\n"
     ]
    }
   ],
   "source": [
    "l = [150, 166, 183, 170]\n",
    "for i in l:\n",
    "    i += 3\n",
    "print(l)"
   ]
  },
  {
   "cell_type": "code",
   "execution_count": 11,
   "metadata": {},
   "outputs": [
    {
     "name": "stdout",
     "output_type": "stream",
     "text": [
      "[153 169 186 173]\n",
      "[153 169 186 173]\n"
     ]
    }
   ],
   "source": [
    "a = np.array([150, 166, 183, 170])\n",
    "print(a + 3)\n",
    "a += 3\n",
    "print(a)"
   ]
  },
  {
   "cell_type": "code",
   "execution_count": 13,
   "metadata": {},
   "outputs": [
    {
     "name": "stdout",
     "output_type": "stream",
     "text": [
      "累乘： 774639000\n",
      "总数： 4\n"
     ]
    },
    {
     "ename": "AttributeError",
     "evalue": "'numpy.ndarray' object has no attribute 'count_nonzero'",
     "output_type": "error",
     "traceback": [
      "\u001b[1;31m---------------------------------------------------------------------------\u001b[0m",
      "\u001b[1;31mAttributeError\u001b[0m                            Traceback (most recent call last)",
      "\u001b[1;32m<ipython-input-13-bdb79e112a81>\u001b[0m in \u001b[0;36m<module>\u001b[1;34m\u001b[0m\n\u001b[0;32m      5\u001b[0m \u001b[0ma\u001b[0m \u001b[1;33m=\u001b[0m \u001b[0mnp\u001b[0m\u001b[1;33m.\u001b[0m\u001b[0marray\u001b[0m\u001b[1;33m(\u001b[0m\u001b[1;33m[\u001b[0m\u001b[1;36m0\u001b[0m\u001b[1;33m,\u001b[0m \u001b[1;36m1\u001b[0m\u001b[1;33m,\u001b[0m \u001b[1;36m2\u001b[0m\u001b[1;33m,\u001b[0m \u001b[1;36m3\u001b[0m\u001b[1;33m]\u001b[0m\u001b[1;33m)\u001b[0m\u001b[1;33m\u001b[0m\u001b[1;33m\u001b[0m\u001b[0m\n\u001b[0;32m      6\u001b[0m \u001b[1;33m\u001b[0m\u001b[0m\n\u001b[1;32m----> 7\u001b[1;33m \u001b[0mprint\u001b[0m\u001b[1;33m(\u001b[0m\u001b[1;34m\"非零总数：\"\u001b[0m\u001b[1;33m,\u001b[0m \u001b[0ma\u001b[0m\u001b[1;33m.\u001b[0m\u001b[0mcount_nonzero\u001b[0m\u001b[1;33m(\u001b[0m\u001b[1;33m)\u001b[0m\u001b[1;33m)\u001b[0m\u001b[1;33m\u001b[0m\u001b[1;33m\u001b[0m\u001b[0m\n\u001b[0m",
      "\u001b[1;31mAttributeError\u001b[0m: 'numpy.ndarray' object has no attribute 'count_nonzero'"
     ]
    }
   ],
   "source": [
    "a = np.array([150, 166, 183, 170])\n",
    "print(\"累乘：\", a.prod())\n",
    "print(\"总数：\", a.size)   \n",
    "                 \n",
    "a = np.array([0, 1, 2, 3])\n",
    "\n",
    "print(\"非零总数：\", a.count_nonzero())\n"
   ]
  },
  {
   "cell_type": "code",
   "execution_count": 14,
   "metadata": {},
   "outputs": [
    {
     "name": "stdout",
     "output_type": "stream",
     "text": [
      "(6,) (1, 6)\n"
     ]
    }
   ],
   "source": [
    "import numpy as np\n",
    "\n",
    "a = np.array([1,2,3,4,5,6])\n",
    "a_2d = a[np.newaxis, :]\n",
    "print(a.shape, a_2d.shape)"
   ]
  },
  {
   "cell_type": "code",
   "execution_count": 15,
   "metadata": {},
   "outputs": [
    {
     "name": "stdout",
     "output_type": "stream",
     "text": [
      "[[1 2 3 4 5 6]]\n"
     ]
    }
   ],
   "source": [
    "print(a_2d)"
   ]
  },
  {
   "cell_type": "code",
   "execution_count": 16,
   "metadata": {},
   "outputs": [
    {
     "name": "stdout",
     "output_type": "stream",
     "text": [
      "(6, 1) (6, 1)\n"
     ]
    }
   ],
   "source": [
    "a = np.array([1,2,3,4,5,6])\n",
    "a_none = a[:, None]\n",
    "a_expand = np.expand_dims(a, axis=1)\n",
    "print(a_none.shape, a_expand.shape)"
   ]
  },
  {
   "cell_type": "code",
   "execution_count": 19,
   "metadata": {},
   "outputs": [
    {
     "name": "stdout",
     "output_type": "stream",
     "text": [
      "[[1 2 3]\n",
      " [4 5 6]]\n",
      "aT1 is\n",
      "[[1 4]\n",
      " [2 5]\n",
      " [3 6]]\n",
      "[[1 4]\n",
      " [2 5]\n",
      " [3 6]]\n"
     ]
    }
   ],
   "source": [
    "a = np.array([1,2,3,4,5,6]).reshape([2, 3])\n",
    "aT1 = a.T\n",
    "aT2 = np.transpose(a)\n",
    "print(a)\n",
    "\n",
    "print(\"aT1 is\")\n",
    "print(aT1)\n",
    "print(aT2)\n"
   ]
  },
  {
   "cell_type": "code",
   "execution_count": 20,
   "metadata": {},
   "outputs": [
    {
     "name": "stdout",
     "output_type": "stream",
     "text": [
      "[[ 1 11]\n",
      " [ 2 22]\n",
      " [ 3 33]\n",
      " [ 4 44]\n",
      " [ 5 55]\n",
      " [ 6 66]]\n"
     ]
    }
   ],
   "source": [
    "#特征 a 的数据和特征 b 的数据合并\n",
    "feature_a = np.array([1,2,3,4,5,6])\n",
    "feature_b = np.array([11,22,33,44,55,66])\n",
    "c_stack = np.column_stack([feature_a, feature_b])\n",
    "print(c_stack)"
   ]
  },
  {
   "cell_type": "code",
   "execution_count": 21,
   "metadata": {},
   "outputs": [
    {
     "name": "stdout",
     "output_type": "stream",
     "text": [
      "[[0.  1.1]\n",
      " [1.  2.2]]\n"
     ]
    }
   ],
   "source": [
    "sample_a = np.array([0, 1.1])\n",
    "sample_b = np.array([1, 2.2])\n",
    "c_stack = np.row_stack([sample_a, sample_b])\n",
    "print(c_stack)"
   ]
  },
  {
   "cell_type": "code",
   "execution_count": null,
   "metadata": {},
   "outputs": [],
   "source": []
  }
 ],
 "metadata": {
  "kernelspec": {
   "display_name": "Python 3",
   "language": "python",
   "name": "python3"
  },
  "language_info": {
   "codemirror_mode": {
    "name": "ipython",
    "version": 3
   },
   "file_extension": ".py",
   "mimetype": "text/x-python",
   "name": "python",
   "nbconvert_exporter": "python",
   "pygments_lexer": "ipython3",
   "version": "3.8.5"
  }
 },
 "nbformat": 4,
 "nbformat_minor": 4
}
